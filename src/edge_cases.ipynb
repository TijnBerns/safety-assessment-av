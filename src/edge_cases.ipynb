{
 "cells": [
  {
   "cell_type": "code",
   "execution_count": null,
   "metadata": {},
   "outputs": [],
   "source": [
    "import sys\n",
    "sys.path.append(\"..\")\n",
    "import numpy as np\n",
    "import scipy.stats\n",
    "from stats import KDE, GaussianMixture\n",
    "import matplotlib.pyplot as plt\n",
    "from tqdm.notebook import tqdm"
   ]
  },
  {
   "cell_type": "markdown",
   "metadata": {},
   "source": [
    "# With dependent variable"
   ]
  },
  {
   "cell_type": "code",
   "execution_count": null,
   "metadata": {},
   "outputs": [],
   "source": [
    "n1 = 500\n",
    "n2 = 500\n",
    "ythreshold = 3\n",
    "gm = GaussianMixture([[2, 2], [-2, -2]], [[[1, .5], [.5, 1]], np.eye(2)])\n",
    "(xpdf, ypdf), zpdf = gm.pdf(minx=[-5, -5], maxx=[10, 10])\n",
    "xpdf = xpdf[0]\n",
    "pdfreal = np.sum(zpdf, axis=0) * np.mean(np.diff(ypdf[:, 0]))\n",
    "\n",
    "(xpdf1, ypdf1), zpdf1 = gm.pdf(minx=[-5, -5], maxx=[10, ythreshold])\n",
    "(xpdf2, ypdf2), zpdf2 = gm.pdf(minx=[-5, ythreshold], maxx=[10, 10])\n",
    "intpysmaller = np.trapz(zpdf1, ypdf1[:, 0], axis=0)\n",
    "intpybigger = np.trapz(zpdf2, ypdf2[:, 0], axis=0)\n",
    "pybigger = intpybigger / (intpysmaller + intpybigger)\n",
    "py0 = np.trapz(intpybigger, xpdf)  # This is the probability that normal data is also edge data\n",
    "plt.plot(xpdf, pybigger)\n",
    "print(f\"Probability of edge case data: {py0:.3f}\")"
   ]
  },
  {
   "cell_type": "code",
   "execution_count": null,
   "metadata": {},
   "outputs": [],
   "source": [
    "def try_only_normal(seed):  # Only using normal data\n",
    "    np.random.seed(seed)\n",
    "    data = gm.generate_samples(n1)[:, 0]\n",
    "    k = KDE(data, scaling=True)\n",
    "    k.compute_bandwidth()\n",
    "    pdfest = k.score_samples(xpdf)\n",
    "    return pdfest"
   ]
  },
  {
   "cell_type": "code",
   "execution_count": null,
   "metadata": {},
   "outputs": [],
   "source": [
    "def try_method(seed):\n",
    "    np.random.seed(seed)\n",
    "    \n",
    "    data1 = gm.generate_samples(n1)\n",
    "    data2 = gm.generate_samples(int(n2/py0*2))  # times 2, so we have enough\n",
    "    data2 = data2[data2[:, 1] > ythreshold, 0]\n",
    "    if len(data2) > n2:  # It almost certainty is\n",
    "        data2 = data2[:n2]\n",
    "    normal_data = data1[data1[:, 1] <= ythreshold, 0]\n",
    "    edge_data = np.concatenate((data2, data1[data1[:, 1] > ythreshold, 0]))\n",
    "\n",
    "    kx1 = KDE(normal_data, scaling=True)\n",
    "    kx1.compute_bandwidth()\n",
    "    pdfest1 = kx1.score_samples(xpdf)\n",
    "\n",
    "    kx2 = KDE(edge_data, scaling=True)\n",
    "    kx2.compute_bandwidth()\n",
    "    pdfest2 = kx2.score_samples(xpdf)\n",
    "    \n",
    "    return pdfest1, pdfest2"
   ]
  },
  {
   "cell_type": "code",
   "execution_count": null,
   "metadata": {},
   "outputs": [],
   "source": [
    "pdf1, pdf2 = try_method(0)\n",
    "plt.plot(xpdf, pdfreal, label=\"Real\")\n",
    "plt.plot(xpdf, pdf1, label=\"Est1\")\n",
    "plt.plot(xpdf, pdf2, label=\"Est2\")\n",
    "plt.plot(xpdf, pdf1*(1-py0)+pdf2*py0, label=\"Combined\")\n",
    "plt.legend()"
   ]
  },
  {
   "cell_type": "code",
   "execution_count": null,
   "metadata": {},
   "outputs": [],
   "source": [
    "N = 100\n",
    "pdfs_normal = np.zeros((N, len(xpdf)))\n",
    "pdfs_edge = np.zeros_like(pdfs_normal)\n",
    "for i in tqdm(range(N)):\n",
    "    pdfs_normal[i] = try_only_normal(i)\n",
    "    pdf1, pdf2 = try_method(i)\n",
    "    pdfs_edge[i] = pdf1*(1-py0) + pdf2*py0"
   ]
  },
  {
   "cell_type": "code",
   "execution_count": null,
   "metadata": {},
   "outputs": [],
   "source": [
    "plt.subplots(1, 1, figsize=(12, 10))\n",
    "plt.plot(xpdf, pdfreal, label=\"Real\")\n",
    "mu1 = np.mean(pdfs_normal, axis=0)\n",
    "sigma1 = np.std(pdfs_normal, axis=0)\n",
    "mse1 = np.mean(np.sqrt((pdfs_normal-pdfreal)**2), axis=0)\n",
    "plt.plot(xpdf, mu1, label=\"Mean est1\")\n",
    "plt.fill_between(xpdf, mu1-sigma1, mu1+sigma1, color=(1, .8, .8), label=\"Uncertainty est1\")\n",
    "mu2 = np.mean(pdfs_edge, axis=0)\n",
    "sigma2 = np.std(pdfs_edge, axis=0)\n",
    "mse2 = np.mean(np.sqrt((pdfs_edge-pdfreal)**2), axis=0)\n",
    "plt.plot(xpdf, mu2, label=\"Mean est2\")\n",
    "plt.fill_between(xpdf, mu2-sigma2, mu2+sigma2, color=(.8, 1, .8), label=\"Uncertainty est2\")\n",
    "plt.legend()\n",
    "plt.ylim(0, 0.3)"
   ]
  },
  {
   "cell_type": "code",
   "execution_count": null,
   "metadata": {},
   "outputs": [],
   "source": [
    "plt.plot(xpdf, mse1)\n",
    "plt.plot(xpdf, mse2)"
   ]
  },
  {
   "cell_type": "code",
   "execution_count": null,
   "metadata": {},
   "outputs": [],
   "source": [
    "plt.plot(xpdf, mse2/mse1)\n",
    "plt.ylim(0, 2)"
   ]
  },
  {
   "cell_type": "code",
   "execution_count": null,
   "metadata": {},
   "outputs": [],
   "source": []
  },
  {
   "cell_type": "code",
   "execution_count": null,
   "metadata": {},
   "outputs": [],
   "source": [
    "n1 = 500\n",
    "n2 = 500\n",
    "ythreshold = 2\n",
    "gm = GaussianMixture([[0, 0]], \n",
    "                     [[[2, 1.3], [1.3, 1]]])\n",
    "(xpdf, ypdf), zpdf = gm.pdf(minx=[-5, -5], maxx=[5, 5])\n",
    "pdfreal = np.sum(zpdf, axis=0) * np.mean(np.diff(ypdf[:, 0]))\n",
    "plt.contourf(xpdf, ypdf, zpdf)\n",
    "\n",
    "dx = np.mean(np.diff(xpdf[0, :]))\n",
    "dy = np.mean(np.diff(ypdf[:, 0]))\n",
    "iythreshold = np.argmin(np.abs(ypdf[:, 0] - ythreshold))"
   ]
  },
  {
   "cell_type": "code",
   "execution_count": null,
   "metadata": {},
   "outputs": [],
   "source": [
    "def try_method2(seed):\n",
    "    np.random.seed(seed)\n",
    "\n",
    "    data1 = gm.generate_samples(n1)\n",
    "    invpycest = n1/np.sum(data1[:, 1] > ythreshold)\n",
    "    data2 = gm.generate_samples(int(n2*invpycest))\n",
    "    pycest = np.mean(data2[:, 1] > ythreshold)\n",
    "    data2 = data2[data2[:, 1] > ythreshold, :]\n",
    "\n",
    "    kx1 = KDE(data1, scaling=True)\n",
    "    kx1.compute_bandwidth()\n",
    "    pdfestxy1 = kx1.score_samples(np.array([xpdf, ypdf]).T).T\n",
    "    cdfest1 = np.cumsum(np.trapz(pdfestxy1, axis=0)) * dy * dx\n",
    "    pdfest1 = np.gradient(cdfest1) / dx\n",
    "\n",
    "    kx2 = KDE(data2, scaling=True)\n",
    "    kx2.compute_bandwidth()\n",
    "    pdfestxy2 = kx2.score_samples(np.array([xpdf, ypdf]).T).T\n",
    "    normalization = np.trapz(np.sum(pdfestxy2, axis=1)[iythreshold:], ypdf[iythreshold:, 0])*dx\n",
    "    cdfest2 = (np.cumsum(np.trapz(pdfestxy1[:iythreshold], axis=0)) +\n",
    "               np.cumsum(np.trapz(pdfestxy2[iythreshold:], axis=0))*pycest/normalization)*dy*dx\n",
    "    pdfest2 = np.gradient(cdfest2) / dx\n",
    "    \n",
    "    return pdfest1, pdfest2"
   ]
  },
  {
   "cell_type": "code",
   "execution_count": null,
   "metadata": {},
   "outputs": [],
   "source": [
    "N = 100\n",
    "pdfs1 = np.zeros((N, len(xpdf)))\n",
    "pdfs2 = np.zeros_like(pdfs1)\n",
    "for i in tqdm(range(N)):\n",
    "    pdf1, pdf2 = try_method2(i)\n",
    "    pdfs1[i] = pdf1\n",
    "    pdfs2[i] = pdf2"
   ]
  },
  {
   "cell_type": "code",
   "execution_count": null,
   "metadata": {},
   "outputs": [],
   "source": [
    "plt.subplots(1, 1, figsize=(12, 10))\n",
    "plt.plot(xpdf[0], pdfreal, label=\"Real\")\n",
    "mu1 = np.mean(pdfs1, axis=0)\n",
    "sigma1 = np.std(pdfs1, axis=0)\n",
    "plt.plot(xpdf[0], mu1, label=\"Mean est1\")\n",
    "plt.fill_between(xpdf[0], mu1-sigma1, mu1+sigma1, color=(1, .8, .8), label=\"Uncertainty est1\")\n",
    "mu2 = np.mean(pdfs2, axis=0)\n",
    "sigma2 = np.std(pdfs2, axis=0)\n",
    "plt.plot(xpdf[0], mu2, label=\"Mean est2\")\n",
    "plt.fill_between(xpdf[0], mu2-sigma2, mu2+sigma2, color=(.8, 1, .8), label=\"Uncertainty est2\")\n",
    "plt.legend()\n",
    "plt.ylim(0, 0.3)"
   ]
  },
  {
   "cell_type": "code",
   "execution_count": null,
   "metadata": {},
   "outputs": [],
   "source": [
    "xpdf = np.linspace(-5, 5, 101)\n",
    "pdfreal = np.exp(-xpdf**2/4) / np.sqrt(4*np.pi)"
   ]
  },
  {
   "cell_type": "code",
   "execution_count": null,
   "metadata": {},
   "outputs": [],
   "source": [
    "def try_method3(seed):\n",
    "    np.random.seed(seed)\n",
    "    \n",
    "    data1 = gm.generate_samples(n1)\n",
    "    invpycest = n1/np.sum(data1[:, 1] > ythreshold)\n",
    "    data2 = gm.generate_samples(int(n2*invpycest))\n",
    "    pycest = np.mean(data2[:, 1] > ythreshold)\n",
    "    data2 = data2[data2[:, 1] > ythreshold, 0]\n",
    "    \n",
    "    pycest = 1-scipy.stats.norm.cdf(ythreshold)\n",
    "    \n",
    "    data1_ec = data1[data1[:, 1] > ythreshold, 0]\n",
    "    data_normal = data1[data1[:, 1] <= ythreshold, 0]\n",
    "    data_ec = np.concatenate((data1_ec, data2))\n",
    "    \n",
    "    kde1 = KDE(data1[:, 0])\n",
    "    kde1.compute_bandwidth()\n",
    "    pdf1 = kde1.score_samples(xpdf)\n",
    "    kde_normal = KDE(data_normal)\n",
    "    kde_normal.compute_bandwidth()\n",
    "    pdf_normal = kde_normal.score_samples(xpdf)\n",
    "    kde_ec = KDE(data_ec)\n",
    "    kde_ec.set_bandwidth(kde_normal.get_bandwidth())\n",
    "    pdf_ec = kde_ec.score_samples(xpdf)\n",
    "    \n",
    "    return pdf1, pdf_ec*pycest + pdf_normal*(1-pycest)"
   ]
  },
  {
   "cell_type": "code",
   "execution_count": null,
   "metadata": {},
   "outputs": [],
   "source": [
    "N = 100\n",
    "pdfs1 = np.zeros((N, len(xpdf)))\n",
    "pdfs2 = np.zeros_like(pdfs1)\n",
    "for i in tqdm(range(N)):\n",
    "    pdf1, pdf2 = try_method3(i)\n",
    "    pdfs1[i] = pdf1\n",
    "    pdfs2[i] = pdf2"
   ]
  },
  {
   "cell_type": "code",
   "execution_count": null,
   "metadata": {},
   "outputs": [],
   "source": [
    "plt.subplots(1, 1, figsize=(12, 10))\n",
    "plt.plot(xpdf, pdfreal, label=\"Real\")\n",
    "mu1 = np.mean(pdfs1, axis=0)\n",
    "sigma1 = np.std(pdfs1, axis=0)\n",
    "plt.plot(xpdf, mu1, label=\"Mean est1\")\n",
    "plt.fill_between(xpdf, mu1-sigma1, mu1+sigma1, color=(1, .8, .8), label=\"Uncertainty est1\")\n",
    "mu2 = np.mean(pdfs2, axis=0)\n",
    "sigma2 = np.std(pdfs2, axis=0)\n",
    "plt.plot(xpdf, mu2, label=\"Mean est2\")\n",
    "plt.fill_between(xpdf, mu2-sigma2, mu2+sigma2, color=(.8, 1, .8), label=\"Uncertainty est2\")\n",
    "plt.legend()\n",
    "plt.ylim(0, 0.3)"
   ]
  },
  {
   "cell_type": "code",
   "execution_count": null,
   "metadata": {},
   "outputs": [],
   "source": [
    "plt.plot(xpdf, pdfreal-mu1, label=\"Error 1\")\n",
    "plt.plot(xpdf, pdfreal-mu2, label=\"Error 2\")\n",
    "plt.title(\"Error with real pdf\")\n",
    "plt.legend()"
   ]
  },
  {
   "cell_type": "code",
   "execution_count": null,
   "metadata": {},
   "outputs": [],
   "source": [
    "plt.plot(xpdf, sigma1, label=\"Estimate 1\")\n",
    "plt.plot(xpdf, sigma2, label=\"Estimate 2\")\n",
    "plt.title(\"Standard deviation estimation\")\n",
    "plt.legend()"
   ]
  },
  {
   "cell_type": "code",
   "execution_count": null,
   "metadata": {},
   "outputs": [],
   "source": [
    "plt.plot(xpdf, sigma2/sigma1)"
   ]
  },
  {
   "cell_type": "code",
   "execution_count": null,
   "metadata": {},
   "outputs": [],
   "source": []
  }
 ],
 "metadata": {
  "kernelspec": {
   "display_name": "Python 3 (ipykernel)",
   "language": "python",
   "name": "python3"
  },
  "language_info": {
   "codemirror_mode": {
    "name": "ipython",
    "version": 3
   },
   "file_extension": ".py",
   "mimetype": "text/x-python",
   "name": "python",
   "nbconvert_exporter": "python",
   "pygments_lexer": "ipython3",
   "version": "3.9.12"
  }
 },
 "nbformat": 4,
 "nbformat_minor": 2
}
